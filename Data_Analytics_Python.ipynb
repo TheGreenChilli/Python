{
 "cells": [
  {
   "cell_type": "code",
   "execution_count": 3,
   "id": "24718c10",
   "metadata": {},
   "outputs": [
    {
     "name": "stdout",
     "output_type": "stream",
     "text": [
      "My name is sanjana dangi\n",
      " I'm a developer\n",
      " I love coding\n"
     ]
    }
   ],
   "source": [
    "print(\"My name is sanjana dangi\\n I'm a developer\\n I love coding\")\n"
   ]
  },
  {
   "cell_type": "code",
   "execution_count": 4,
   "id": "b490b7cb",
   "metadata": {},
   "outputs": [
    {
     "name": "stdout",
     "output_type": "stream",
     "text": [
      "My name is sanjana dangi \n",
      "I'm a developer \n",
      "I love coding\n"
     ]
    }
   ],
   "source": [
    "print(\"My name is sanjana dangi \\nI'm a developer \\nI love coding\")"
   ]
  },
  {
   "cell_type": "code",
   "execution_count": 5,
   "id": "408f8bba",
   "metadata": {},
   "outputs": [
    {
     "name": "stdout",
     "output_type": "stream",
     "text": [
      "Hello world\n"
     ]
    }
   ],
   "source": [
    "# in this i'm gonna print hello world by creating variable\n",
    "\n",
    "a = \"Hello world\"\n",
    "print(a)"
   ]
  },
  {
   "cell_type": "code",
   "execution_count": 7,
   "id": "bf0cb713",
   "metadata": {},
   "outputs": [
    {
     "name": "stdout",
     "output_type": "stream",
     "text": [
      "sanjana\n"
     ]
    }
   ],
   "source": [
    "Name = \"sanjana\"\n",
    "print(Name)"
   ]
  },
  {
   "cell_type": "code",
   "execution_count": 10,
   "id": "600d86c6",
   "metadata": {},
   "outputs": [
    {
     "name": "stdout",
     "output_type": "stream",
     "text": [
      "Enter your name here: sanjana\n",
      "sanjana\n"
     ]
    }
   ],
   "source": [
    "Name = input(\"Enter your name here: \")\n",
    "print(Name)"
   ]
  },
  {
   "cell_type": "code",
   "execution_count": 11,
   "id": "3a239c50",
   "metadata": {},
   "outputs": [
    {
     "name": "stdout",
     "output_type": "stream",
     "text": [
      "Enter your age: 21\n",
      "21\n"
     ]
    }
   ],
   "source": [
    "Age = int(input(\"Enter your age: \"))\n",
    "print(Age)"
   ]
  },
  {
   "cell_type": "code",
   "execution_count": 13,
   "id": "fe56b80a",
   "metadata": {},
   "outputs": [
    {
     "name": "stdout",
     "output_type": "stream",
     "text": [
      "Enter any equation here: 2+3\n",
      "5\n"
     ]
    }
   ],
   "source": [
    "exp = eval(input(\"Enter any equation here: \"))\n",
    "print(exp)"
   ]
  },
  {
   "cell_type": "code",
   "execution_count": 15,
   "id": "3a9e255b",
   "metadata": {},
   "outputs": [
    {
     "name": "stdout",
     "output_type": "stream",
     "text": [
      "<class 'str'>\n"
     ]
    }
   ],
   "source": [
    "name = \"sanju\"\n",
    "print(type(name))"
   ]
  },
  {
   "cell_type": "code",
   "execution_count": 16,
   "id": "8a26e846",
   "metadata": {},
   "outputs": [
    {
     "name": "stdout",
     "output_type": "stream",
     "text": [
      "<class 'int'>\n"
     ]
    }
   ],
   "source": [
    "age = 21\n",
    "print(type(age))"
   ]
  },
  {
   "cell_type": "code",
   "execution_count": 17,
   "id": "f1a039f6",
   "metadata": {},
   "outputs": [
    {
     "name": "stdout",
     "output_type": "stream",
     "text": [
      "124.23\n",
      "<class 'float'>\n"
     ]
    }
   ],
   "source": [
    "# Implicit type casting\n",
    "\n",
    "a = 123\n",
    "b = 1.23\n",
    "c = a + b\n",
    "print(c)\n",
    "print(type(c))"
   ]
  },
  {
   "cell_type": "code",
   "execution_count": 19,
   "id": "db34ab7c",
   "metadata": {},
   "outputs": [
    {
     "name": "stdout",
     "output_type": "stream",
     "text": [
      "after conversion <class 'float'>\n"
     ]
    }
   ],
   "source": [
    "# explicit type casting\n",
    "\n",
    "a = \"123\"\n",
    "a = float(a)\n",
    "print(\"after conversion\", type(a))"
   ]
  },
  {
   "cell_type": "code",
   "execution_count": 21,
   "id": "05cd4be0",
   "metadata": {},
   "outputs": [
    {
     "name": "stdout",
     "output_type": "stream",
     "text": [
      "what is your name: sanjana\n",
      "what is your age: 21\n",
      "write your address: Ramgarh\n",
      "sanjana\n",
      "21\n",
      "Ramgarh\n"
     ]
    }
   ],
   "source": [
    "# wap to display a person's name, age, address in three diffrent lines\n",
    "\n",
    "Name = input(\"what is your name: \")\n",
    "Age = input(\"what is your age: \")\n",
    "Address = input(\"write your address: \")\n",
    "print(Name)\n",
    "print(Age)\n",
    "print(Address)"
   ]
  },
  {
   "cell_type": "code",
   "execution_count": 23,
   "id": "f57e58bb",
   "metadata": {},
   "outputs": [
    {
     "name": "stdout",
     "output_type": "stream",
     "text": [
      "10\n",
      "20\n",
      "10\n",
      "value of x is 20\n",
      "value of y is 10\n"
     ]
    }
   ],
   "source": [
    "# wap to swap two variables\n",
    "\n",
    "# method1 using temp variable\n",
    "x = 10\n",
    "y = 20\n",
    "\n",
    "temp = x\n",
    "print(temp)\n",
    "x = y\n",
    "print(x)\n",
    "y = temp\n",
    "print(y)\n",
    "print(\"value of x is\", x)\n",
    "print(\"value of y is\", y)"
   ]
  },
  {
   "cell_type": "code",
   "execution_count": 24,
   "id": "8d49053a",
   "metadata": {},
   "outputs": [
    {
     "name": "stdout",
     "output_type": "stream",
     "text": [
      "10\n",
      "20\n"
     ]
    }
   ],
   "source": [
    "# method2\n",
    "\n",
    "a = 10\n",
    "b = 20\n",
    "\n",
    "# left, right = right, left\n",
    "a, b = b,a\n",
    "print(b)\n",
    "print(a)"
   ]
  },
  {
   "cell_type": "code",
   "execution_count": 25,
   "id": "378b7b54",
   "metadata": {},
   "outputs": [
    {
     "name": "stdout",
     "output_type": "stream",
     "text": [
      "after conversion 1\n"
     ]
    }
   ],
   "source": [
    "# wap to convert a float into integer\n",
    "\n",
    "a = 1.23\n",
    "a = int(a)\n",
    "print(\"after conversion\", (a))"
   ]
  },
  {
   "cell_type": "code",
   "execution_count": 26,
   "id": "64570e4b",
   "metadata": {},
   "outputs": [
    {
     "name": "stdout",
     "output_type": "stream",
     "text": [
      "Enter your name: sanjana\n",
      "Enter your class: 7\n",
      "Enter your roll: 34\n",
      "sanjana\n",
      "7\n",
      "34\n"
     ]
    }
   ],
   "source": [
    "# wap to take details from a student for id-card and then print it in diffrent lines.\n",
    "\n",
    "Name = input(\"Enter your name: \")\n",
    "Class = input(\"Enter your class: \")\n",
    "Roll = int(input(\"Enter your roll: \"))\n",
    "print(Name)\n",
    "print(Class)\n",
    "print(Roll)\n"
   ]
  },
  {
   "cell_type": "code",
   "execution_count": 30,
   "id": "67a1925c",
   "metadata": {},
   "outputs": [
    {
     "name": "stdout",
     "output_type": "stream",
     "text": [
      "2.0\n",
      "4\n",
      "2\n"
     ]
    }
   ],
   "source": [
    "print(6/3)\n",
    "print(2**2)\n",
    "print(6//3)"
   ]
  },
  {
   "cell_type": "code",
   "execution_count": 33,
   "id": "f076f12e",
   "metadata": {},
   "outputs": [
    {
     "name": "stdout",
     "output_type": "stream",
     "text": [
      "True\n",
      "False\n"
     ]
    }
   ],
   "source": [
    "print(3>2) \n",
    "print(3==6)"
   ]
  },
  {
   "cell_type": "code",
   "execution_count": 2,
   "id": "9cfefc21",
   "metadata": {},
   "outputs": [
    {
     "name": "stdout",
     "output_type": "stream",
     "text": [
      "False\n",
      "True\n"
     ]
    }
   ],
   "source": [
    "# logical operator \n",
    "\n",
    "print(3>4 and 3<4)\n",
    "print(not(3>4 and 3<4))"
   ]
  },
  {
   "cell_type": "code",
   "execution_count": 7,
   "id": "12174037",
   "metadata": {},
   "outputs": [
    {
     "name": "stdout",
     "output_type": "stream",
     "text": [
      "True\n"
     ]
    }
   ],
   "source": [
    "# identity operator\n",
    "# a = 1234\n",
    "# b = 1234\n",
    "# print(a is not b)\n",
    "\n",
    "a = 1234\n",
    "b = \"1234\"\n",
    "print(a is not b)"
   ]
  },
  {
   "cell_type": "code",
   "execution_count": 12,
   "id": "30f6bbf9",
   "metadata": {},
   "outputs": [
    {
     "name": "stdout",
     "output_type": "stream",
     "text": [
      "40\n"
     ]
    }
   ],
   "source": [
    "# Bitwise operator\n",
    "\n",
    "# OR OPERATOR\n",
    "# print(bin(15))\n",
    "# a = 10\n",
    "# b = 8\n",
    "# print(a | b)\n",
    "\n",
    "# XOR OPERATOR\n",
    "# a = 10\n",
    "# b = 8\n",
    "# print(a ^ b)\n",
    "\n",
    "# ZERO FILL LEFT SHIFFT\n",
    "# print(10>>2)\n",
    "print(10<<2)"
   ]
  },
  {
   "cell_type": "code",
   "execution_count": 13,
   "id": "7739a0bb",
   "metadata": {},
   "outputs": [
    {
     "name": "stdout",
     "output_type": "stream",
     "text": [
      "False\n"
     ]
    }
   ],
   "source": [
    "# MEMBERSHIP OPERATOR\n",
    "\n",
    "a = \"Hello\"\n",
    "print(\"H\" not in a)"
   ]
  },
  {
   "cell_type": "code",
   "execution_count": 1,
   "id": "7a368b6e",
   "metadata": {},
   "outputs": [
    {
     "name": "stdout",
     "output_type": "stream",
     "text": [
      "you will get a new phone\n",
      "you can go to a trip\n"
     ]
    }
   ],
   "source": [
    "# NESTED IF-ELSE STATEMENT\n",
    "\n",
    "marks = 95 \n",
    "\n",
    "if marks>=80:\n",
    "    print(\"you will get a new phone\")\n",
    "    if marks>=95:\n",
    "        print(\"you can go to a trip\")\n",
    "        \n",
    "else:\n",
    "    print(\"no phone for a month\")\n",
    "\n",
    "    \n"
   ]
  },
  {
   "cell_type": "code",
   "execution_count": 2,
   "id": "58147866",
   "metadata": {},
   "outputs": [
    {
     "name": "stdout",
     "output_type": "stream",
     "text": [
      "you will get a new phone\n"
     ]
    }
   ],
   "source": [
    "# SHORT HAND IF STATEMENT\n",
    "\n",
    "marks = 97\n",
    "if marks>= 90: print(\"you will get a new phone\")"
   ]
  },
  {
   "cell_type": "code",
   "execution_count": 3,
   "id": "2f787958",
   "metadata": {},
   "outputs": [
    {
     "name": "stdout",
     "output_type": "stream",
     "text": [
      "you will go to trip\n"
     ]
    }
   ],
   "source": [
    "# SHORT HAND IF-ELSE STATEMENT\n",
    "\n",
    "marks = 97\n",
    "\n",
    "print(\"you will go to trip\") if marks>= 90 else print(\"no phone for a month\")"
   ]
  },
  {
   "cell_type": "code",
   "execution_count": 6,
   "id": "1152c247",
   "metadata": {},
   "outputs": [
    {
     "name": "stdout",
     "output_type": "stream",
     "text": [
      "Enter a number her: -9\n",
      "negative\n"
     ]
    }
   ],
   "source": [
    "# PROBLEM SOLVING\n",
    "\n",
    "# wap a program to check if a number is positive\n",
    "\n",
    "num = int(input(\"Enter a number her: \"))\n",
    "if num >= 0:\n",
    "    print(\"positive\")\n",
    "else:\n",
    "    print(\"negative\")\n"
   ]
  },
  {
   "cell_type": "code",
   "execution_count": 10,
   "id": "f33e7bfa",
   "metadata": {},
   "outputs": [
    {
     "name": "stdout",
     "output_type": "stream",
     "text": [
      "Enter a number here: 4\n",
      "even\n"
     ]
    }
   ],
   "source": [
    "# wap to check whether a number is odd or even\n",
    "\n",
    "num = int(input(\"Enter a number here: \"))\n",
    "if num%2 == 1:\n",
    "    print(\"odd\")\n",
    "else:\n",
    "    print(\"even\")"
   ]
  },
  {
   "cell_type": "code",
   "execution_count": 12,
   "id": "2511daf9",
   "metadata": {},
   "outputs": [
    {
     "name": "stdout",
     "output_type": "stream",
     "text": [
      "enter the number between 1-4: 3\n",
      "enter the radius of the circle: 6\n",
      "area of circle is:  113.14285714285714\n"
     ]
    }
   ],
   "source": [
    "# wap to create area calculator\n",
    "\n",
    "choice = int(input(\"enter the number between 1-4: \"))\n",
    "if choice == 1:\n",
    "    side = float(input(\"enter the length of one side: \"))\n",
    "    area = side**2\n",
    "    print(\"area of square is: \", area)\n",
    "\n",
    "elif choice == 2:\n",
    "    length = float(input(\"enter the length of rectangle: \"))\n",
    "    width = float(input(\"enter the width of rectangle: \"))\n",
    "    area = length*width\n",
    "    print(\"area of rectangle is: \", area)\n",
    "\n",
    "elif choice == 3:\n",
    "    radius = float(input(\"enter the radius of the circle: \"))\n",
    "    area = ((22/7)*radius**2)\n",
    "    print(\"area of circle is: \", area)\n",
    "    \n",
    "else:\n",
    "    print(\"invalid input\")\n",
    "    "
   ]
  },
  {
   "cell_type": "code",
   "execution_count": 13,
   "id": "a2d7ab16",
   "metadata": {},
   "outputs": [
    {
     "name": "stdout",
     "output_type": "stream",
     "text": [
      "enter the letter here: e\n",
      "vowel\n"
     ]
    }
   ],
   "source": [
    "# wap to check whether the passed letter is vowel or not\n",
    "\n",
    "letter = input(\"enter the letter here: \")\n",
    "\n",
    "if (letter in \"aeiou\") or (letter in \"AEIOU\"):\n",
    "    print(\"vowel\")\n",
    "    \n",
    "else:\n",
    "    print(\"not a vowel\")"
   ]
  },
  {
   "cell_type": "code",
   "execution_count": 17,
   "id": "3c59c37d",
   "metadata": {},
   "outputs": [
    {
     "name": "stdout",
     "output_type": "stream",
     "text": [
      "enter a number here up to 5-digits: 7777\n",
      "four digit number\n"
     ]
    }
   ],
   "source": [
    "# wap to check if number is sible digit number, 2 digit number, 3 digit number, 4digit number, 5 digit number\n",
    "\n",
    "num = int(input(\"enter a number here up to 5-digits: \"))\n",
    "          \n",
    "if num >= 0 and num <= 9:\n",
    "          print(\"single digit number\")\n",
    "elif num >= 10 and num <= 99:\n",
    "          print(\"double digit number\")\n",
    "elif num >= 100 and num <= 999:\n",
    "          print(\"triple digit number\")\n",
    "elif num >= 1000 and num <= 9999:\n",
    "          print(\"four digit number\")\n",
    "else:\n",
    "     print(\"five digit number\")          \n",
    "\n",
    "          "
   ]
  },
  {
   "cell_type": "code",
   "execution_count": 18,
   "id": "1e7a22b0",
   "metadata": {},
   "outputs": [
    {
     "name": "stdout",
     "output_type": "stream",
     "text": [
      "Hello World\n",
      "Hello World\n",
      "Hello World\n"
     ]
    }
   ],
   "source": [
    "# FOR LOOP \n",
    "\n",
    "for i in range(1, 6, 2):\n",
    "    print(\"Hello World\")"
   ]
  },
  {
   "cell_type": "code",
   "execution_count": 20,
   "id": "4e8c03aa",
   "metadata": {},
   "outputs": [
    {
     "name": "stdout",
     "output_type": "stream",
     "text": [
      "enter a number here: 6\n",
      "6 x 1 = 6\n",
      "6 x 2 = 12\n",
      "6 x 3 = 18\n",
      "6 x 4 = 24\n",
      "6 x 5 = 30\n",
      "6 x 6 = 36\n",
      "6 x 7 = 42\n",
      "6 x 8 = 48\n",
      "6 x 9 = 54\n",
      "6 x 10 = 60\n"
     ]
    }
   ],
   "source": [
    "# wap to print a table of 7\n",
    "\n",
    "# n = 8\n",
    "n  = int(input(\"enter a number here: \"))\n",
    "for i in range(1, 11):\n",
    "    print(n, \"x\", i, \"=\", n*i)"
   ]
  },
  {
   "cell_type": "code",
   "execution_count": 1,
   "id": "84bf36f2",
   "metadata": {},
   "outputs": [
    {
     "name": "stdout",
     "output_type": "stream",
     "text": [
      "0\n",
      "2\n",
      "4\n",
      "6\n",
      "8\n",
      "10\n"
     ]
    }
   ],
   "source": [
    "# WHILE LOOP\n",
    "\n",
    "n = 0\n",
    "while n<=10:\n",
    "    print(n)\n",
    "    n +=2\n"
   ]
  },
  {
   "cell_type": "code",
   "execution_count": 2,
   "id": "d0a69412",
   "metadata": {},
   "outputs": [
    {
     "name": "stdout",
     "output_type": "stream",
     "text": [
      "enter a number here: 6\n",
      "6 x 1 = 6\n",
      "6 x 2 = 12\n",
      "6 x 3 = 18\n",
      "6 x 4 = 24\n",
      "6 x 5 = 30\n",
      "6 x 6 = 36\n",
      "6 x 7 = 42\n",
      "6 x 8 = 48\n",
      "6 x 9 = 54\n",
      "6 x 10 = 60\n"
     ]
    }
   ],
   "source": [
    "# multiplication question using while loop\n",
    "\n",
    "n = 1\n",
    "a = int(input(\"enter a number here: \"))\n",
    "\n",
    "while n<= 10:\n",
    "    print(a, \"x\", n, \"=\", n*a)\n",
    "    n += 1\n",
    "#     n += 2 for odd numbers only\n"
   ]
  },
  {
   "cell_type": "code",
   "execution_count": 3,
   "id": "3e1e85a1",
   "metadata": {},
   "outputs": [
    {
     "name": "stdout",
     "output_type": "stream",
     "text": [
      "enter a number here: 6\n",
      "enter another number here: 6\n",
      "12\n",
      "do you want to stop the program: yes\n"
     ]
    }
   ],
   "source": [
    "# WHILE TRUE\n",
    "\n",
    "while True:\n",
    "    num1 = int(input(\"enter a number here: \"))\n",
    "    num2 = int(input(\"enter another number here: \"))\n",
    "    \n",
    "    print(num1 + num2)\n",
    "    repeat = input(\"do you want to stop the program: \")\n",
    "    if repeat == \"yes\":\n",
    "        break\n",
    "        "
   ]
  },
  {
   "cell_type": "code",
   "execution_count": 9,
   "id": "ac7f97fd",
   "metadata": {},
   "outputs": [
    {
     "name": "stdout",
     "output_type": "stream",
     "text": [
      "12345678910\n",
      "12345678910\n",
      "12345678910\n"
     ]
    }
   ],
   "source": [
    "# NESTED LOOP\n",
    "\n",
    "for i in range(1, 4):\n",
    "    for j in range(1, 11):\n",
    "        print(j, end =\"\")\n",
    "    print()\n",
    "  "
   ]
  },
  {
   "cell_type": "code",
   "execution_count": 10,
   "id": "f2c7887f",
   "metadata": {},
   "outputs": [
    {
     "name": "stdout",
     "output_type": "stream",
     "text": [
      "1 \n",
      "1 2 \n",
      "1 2 3 \n",
      "1 2 3 4 \n",
      "1 2 3 4 5 \n"
     ]
    }
   ],
   "source": [
    "# PATTERN PRINTING USING NESTED LOOP\n",
    "\n",
    "for i in range(1, 6):\n",
    "    for j in range(1, i+1):\n",
    "        print(j, end= \" \")\n",
    "    print()"
   ]
  },
  {
   "cell_type": "code",
   "execution_count": 11,
   "id": "6c8b14b4",
   "metadata": {},
   "outputs": [
    {
     "name": "stdout",
     "output_type": "stream",
     "text": [
      "24\n",
      "48\n",
      "72\n",
      "96\n"
     ]
    }
   ],
   "source": [
    "# FOR LOOP WITH CONDITIONALS STATEMENTS\n",
    "\n",
    "for i in range(1, 101):\n",
    "    if i%8 == 0 and i%12 == 0:\n",
    "        print(i)\n"
   ]
  },
  {
   "cell_type": "code",
   "execution_count": 2,
   "id": "1256f252",
   "metadata": {},
   "outputs": [
    {
     "name": "stdout",
     "output_type": "stream",
     "text": [
      "1\n",
      "2\n",
      "add this to favs\n",
      "4\n",
      "5\n",
      "6\n",
      "7\n",
      "8\n",
      "9\n",
      "10\n"
     ]
    }
   ],
   "source": [
    "n = 1\n",
    "\n",
    "while n <=10:\n",
    "    if n ==3:\n",
    "        print(\"add this to favs\")\n",
    "    else:\n",
    "        print(n)\n",
    "    n += 1"
   ]
  },
  {
   "cell_type": "code",
   "execution_count": 3,
   "id": "22719a27",
   "metadata": {},
   "outputs": [
    {
     "name": "stdout",
     "output_type": "stream",
     "text": [
      "1\n",
      "2\n",
      "3\n",
      "4\n",
      "6\n",
      "7\n",
      "8\n",
      "9\n",
      "10\n"
     ]
    }
   ],
   "source": [
    "# BREAK AND CONTINUE STATEMENT\n",
    "\n",
    "for i in range(1, 11):\n",
    "    if i == 5:\n",
    "        continue\n",
    "    else: \n",
    "        print(i)\n"
   ]
  },
  {
   "cell_type": "code",
   "execution_count": 4,
   "id": "2ecefc96",
   "metadata": {},
   "outputs": [
    {
     "name": "stdout",
     "output_type": "stream",
     "text": [
      "1\n",
      "2\n",
      "3\n",
      "4\n",
      "5\n",
      "6\n",
      "Thankyou\n"
     ]
    }
   ],
   "source": [
    "for i in range(1, 11):\n",
    "    if i == 7:\n",
    "        break\n",
    "    else: \n",
    "        print(i)\n",
    "print(\"Thankyou\")\n"
   ]
  },
  {
   "cell_type": "code",
   "execution_count": 2,
   "id": "761e736e",
   "metadata": {},
   "outputs": [
    {
     "name": "stdout",
     "output_type": "stream",
     "text": [
      "26\n"
     ]
    }
   ],
   "source": [
    "# PROBLEM SOLVING USING LOOP\n",
    "\n",
    "# wap to find sum of all even numbers up to 50\n",
    "\n",
    "sum = 0\n",
    "for i in range(0, 51):\n",
    "    if i%2 == 0:\n",
    "        sum += 1\n",
    "print(sum)"
   ]
  },
  {
   "cell_type": "code",
   "execution_count": 3,
   "id": "3b1f8f54",
   "metadata": {},
   "outputs": [
    {
     "name": "stdout",
     "output_type": "stream",
     "text": [
      "1 1\n",
      "2 4\n",
      "3 9\n",
      "4 16\n",
      "5 25\n",
      "6 36\n",
      "7 49\n",
      "8 64\n",
      "9 81\n",
      "10 100\n",
      "11 121\n",
      "12 144\n",
      "13 169\n",
      "14 196\n",
      "15 225\n",
      "16 256\n",
      "17 289\n",
      "18 324\n",
      "19 361\n",
      "20 400\n"
     ]
    }
   ],
   "source": [
    "# wap to print first 20 numbers and first squared numbers\n",
    "\n",
    "for i in range(1, 21):\n",
    "    print(i, i**2)"
   ]
  },
  {
   "cell_type": "code",
   "execution_count": 1,
   "id": "374922fa",
   "metadata": {},
   "outputs": [
    {
     "name": "stdout",
     "output_type": "stream",
     "text": [
      "sum of first 10 odd numbers is:  100\n"
     ]
    }
   ],
   "source": [
    "# wap to find sum of first 10 odd numbers using while loop\n",
    "\n",
    "sum = 0\n",
    "n = 0\n",
    "while n <= 20:\n",
    "    if n%2 != 0:\n",
    "        sum += n\n",
    "    n += 1\n",
    "    \n",
    "print(\"sum of first 10 odd numbers is: \", sum)\n",
    "    "
   ]
  },
  {
   "cell_type": "code",
   "execution_count": 3,
   "id": "e62dad11",
   "metadata": {},
   "outputs": [
    {
     "name": "stdout",
     "output_type": "stream",
     "text": [
      "24\n",
      "48\n",
      "72\n",
      "96\n"
     ]
    }
   ],
   "source": [
    "# wap to check number is divisible by 8 and 12 up to 100 numbers\n",
    "\n",
    "# n = 1\n",
    "# while n <= 100:\n",
    "#     if n % 8 == 0 and n % 12 == 0:\n",
    "#         print(n)\n",
    "#     n += 1\n",
    "    \n",
    "\n",
    "#     USING FO RLOOP \n",
    "\n",
    "for i in range(1, 101):\n",
    "    if i % 8 == 0 and i % 12 == 0:\n",
    "        print(i)\n",
    "    "
   ]
  },
  {
   "cell_type": "code",
   "execution_count": 14,
   "id": "7f1d066d",
   "metadata": {},
   "outputs": [
    {
     "name": "stdout",
     "output_type": "stream",
     "text": [
      "4\n"
     ]
    }
   ],
   "source": [
    "a = \"Why fit in, When you are Born to Stand Out!\"\n",
    "# wap to find the length of the following string\n",
    "# print(len(a))\n",
    "\n",
    "# b = len(a)\n",
    "# print(\"length of string is: \", b)\n",
    "\n",
    "# wap to check how many times alphabet o is occuring\n",
    "# print(a.count(\"o\"))\n",
    "\n",
    "# wap to convert the whole string into lower case and upper case\n",
    "# print(a.lower())\n",
    "# print(a.upper())\n",
    "\n",
    "# wap to convert the following string into title\n",
    "# print(a.title())\n",
    "\n",
    "# wap to find the index number of \"fit in\"\n",
    "print(a.find(\"fit in\"))"
   ]
  },
  {
   "cell_type": "code",
   "execution_count": 15,
   "id": "cda8c23a",
   "metadata": {},
   "outputs": [
    {
     "name": "stdout",
     "output_type": "stream",
     "text": [
      "1 \n",
      "1 2 \n",
      "1 2 3 \n",
      "1 2 3 4 \n",
      "1 2 3 4 5 \n"
     ]
    }
   ],
   "source": [
    "# wap to display this pattern\n",
    "# 1\n",
    "# 1 2\n",
    "# 1 2 3\n",
    "# 1 2 3 4\n",
    "# 1 2 3 4 5\n",
    "\n",
    "for i in range(1, 6):   \n",
    "    for j in range(1, i+1):\n",
    "        print(j, end=\" \")\n",
    "    print()"
   ]
  },
  {
   "cell_type": "code",
   "execution_count": 16,
   "id": "23fa5987",
   "metadata": {},
   "outputs": [
    {
     "name": "stdout",
     "output_type": "stream",
     "text": [
      "1 \n",
      "2 2 \n",
      "3 3 3 \n",
      "4 4 4 4 \n",
      "5 5 5 5 5 \n"
     ]
    }
   ],
   "source": [
    "# 1\n",
    "# 2 2\n",
    "# 3 3 3\n",
    "# 4 4 4 4\n",
    "# 5 5 5 5 5\n",
    "\n",
    "for i in range(1, 6):   \n",
    "    for j in range(1, i+1):\n",
    "        print(i, end=\" \")\n",
    "    print()"
   ]
  },
  {
   "cell_type": "code",
   "execution_count": 18,
   "id": "22aaff58",
   "metadata": {},
   "outputs": [
    {
     "name": "stdout",
     "output_type": "stream",
     "text": [
      "1 1 1 1 1 \n",
      "2 2 2 2 \n",
      "3 3 3 \n",
      "4 4 \n",
      "5 \n"
     ]
    }
   ],
   "source": [
    "# 1 1 1 1 1\n",
    "# 2 2 2 2\n",
    "# 3 3 3\n",
    "# 4 4\n",
    "# 5 \n",
    "\n",
    "for i in range(1, 6):   \n",
    "    for j in range(6, i, -1):\n",
    "        print(i, end=\" \")\n",
    "    print()"
   ]
  },
  {
   "cell_type": "code",
   "execution_count": 21,
   "id": "172989dc",
   "metadata": {},
   "outputs": [
    {
     "name": "stdout",
     "output_type": "stream",
     "text": [
      "        * \n",
      "      * * \n",
      "    * * * \n",
      "  * * * * \n",
      "* * * * * \n"
     ]
    }
   ],
   "source": [
    "#         *\n",
    "#       * *\n",
    "#     * * *\n",
    "#   * * * *\n",
    "# * * * * *\n",
    "\n",
    "for i in range(1, 6):\n",
    "    for j in range(5, i, -1):\n",
    "        print(\" \", end=\" \")\n",
    "    for k in range(i):\n",
    "        print(\"*\", end = \" \")\n",
    "        \n",
    "    print()"
   ]
  },
  {
   "cell_type": "code",
   "execution_count": 24,
   "id": "8fd3588b",
   "metadata": {},
   "outputs": [
    {
     "name": "stdout",
     "output_type": "stream",
     "text": [
      "1 \n",
      "2 1 \n",
      "3 2 1 \n",
      "4 3 2 1 \n",
      "5 4 3 2 1 \n"
     ]
    }
   ],
   "source": [
    "# 1 \n",
    "# 2 1 \n",
    "# 3 2 1\n",
    "# 4 3 2 1\n",
    "# 5 4 3 2 1\n",
    "\n",
    "for i in range(1, 6):\n",
    "    for j in range(i, 0, -1):\n",
    "        print(j, end=\" \")\n",
    "    print()"
   ]
  },
  {
   "cell_type": "code",
   "execution_count": 28,
   "id": "8d873fc0",
   "metadata": {},
   "outputs": [
    {
     "name": "stdout",
     "output_type": "stream",
     "text": [
      "* \n",
      "* * \n",
      "* * * \n",
      "* * * * \n",
      "* * * * * \n",
      "* * * * \n",
      "* * * \n",
      "* * \n",
      "* \n",
      "\n"
     ]
    }
   ],
   "source": [
    "# *\n",
    "# * *\n",
    "# * * *\n",
    "# * * * *\n",
    "# * * * * *\n",
    "# * * * * \n",
    "# * * *\n",
    "# * * \n",
    "# * \n",
    "\n",
    "for i in range(1, 6):\n",
    "    for j in range(1, i+1):\n",
    "        print(\"*\", end=\" \")\n",
    "    print()\n",
    "for i in range(5, 0, -1):\n",
    "    for k in range(0, i-1):\n",
    "        print(\"*\", end=\" \")\n",
    "    print()"
   ]
  },
  {
   "cell_type": "code",
   "execution_count": 29,
   "id": "bae0068c",
   "metadata": {},
   "outputs": [
    {
     "name": "stdout",
     "output_type": "stream",
     "text": [
      "1 \n",
      "2 4 \n",
      "3 6 9 \n",
      "4 8 12 16 \n",
      "5 10 15 20 25 \n",
      "6 12 18 24 30 36 \n",
      "7 14 21 28 35 42 49 \n",
      "8 16 24 32 40 48 56 64 \n",
      "9 18 27 36 45 54 63 72 81 \n",
      "10 20 30 40 50 60 70 80 90 100 \n"
     ]
    }
   ],
   "source": [
    "for i in range(1, 11):\n",
    "    for j in range(1, i+1):\n",
    "        print(i*j, end=\" \")\n",
    "        \n",
    "    print()"
   ]
  },
  {
   "cell_type": "code",
   "execution_count": 32,
   "id": "92b71c9a",
   "metadata": {},
   "outputs": [
    {
     "name": "stdout",
     "output_type": "stream",
     "text": [
      "<class 'str'>\n"
     ]
    }
   ],
   "source": [
    "# STRING MANIPULATION\n",
    "a = \"Hello world\"\n",
    "print(type(a))"
   ]
  },
  {
   "cell_type": "code",
   "execution_count": 34,
   "id": "64a86c6b",
   "metadata": {},
   "outputs": [
    {
     "name": "stdout",
     "output_type": "stream",
     "text": [
      "My name is sanjana. and my age is 21\n"
     ]
    }
   ],
   "source": [
    "# to write variables inside a string\n",
    "\n",
    "name =\"sanjana\"\n",
    "age = 21\n",
    "b =\"My name is {}. and my age is {}\"\n",
    "print(b.format(name, age))"
   ]
  },
  {
   "cell_type": "code",
   "execution_count": 36,
   "id": "10959e6a",
   "metadata": {},
   "outputs": [
    {
     "name": "stdout",
     "output_type": "stream",
     "text": [
      "******sanjana*******\n"
     ]
    }
   ],
   "source": [
    "# it fills the given characters and centralizes a string\n",
    "\n",
    "print(name.center(20, \"*\"))"
   ]
  },
  {
   "cell_type": "code",
   "execution_count": 1,
   "id": "9ec87960",
   "metadata": {},
   "outputs": [
    {
     "name": "stdout",
     "output_type": "stream",
     "text": [
      "0\n"
     ]
    }
   ],
   "source": [
    "# rindex\n",
    "\n",
    "a = \"Harry pitter and the Prisoner of Azkaban\"\n",
    "print(a.rindex(\"Harry\"))"
   ]
  },
  {
   "cell_type": "code",
   "execution_count": 2,
   "id": "e2bde282",
   "metadata": {},
   "outputs": [
    {
     "name": "stdout",
     "output_type": "stream",
     "text": [
      "6\n"
     ]
    }
   ],
   "source": [
    "# rfind\n",
    "\n",
    "a = \"Harry Potter and the Goblet of Fire\"\n",
    "print(a.rfind(\"Potter\"))"
   ]
  },
  {
   "cell_type": "code",
   "execution_count": 13,
   "id": "72873cac",
   "metadata": {},
   "outputs": [
    {
     "name": "stdout",
     "output_type": "stream",
     "text": [
      "Harry Potter and the Goblet of Fire\n",
      "Harry\n",
      "Potter\n",
      "Harry\n",
      "02468\n",
      "0246\n",
      "9876543210\n",
      "654321\n"
     ]
    }
   ],
   "source": [
    "# string slicing\n",
    "\n",
    "a = \"Harry Potter and the Goblet of Fire\"\n",
    "print(a)\n",
    "print(a[0:5])\n",
    "print(a[6:12])\n",
    "print(a[:5])\n",
    "\n",
    "b = \"0123456789\"\n",
    "print(b[::2])\n",
    "print(b[:7:2])\n",
    "print(b[::-1])\n",
    "print(b[6:0:-1])\n"
   ]
  },
  {
   "cell_type": "code",
   "execution_count": 15,
   "id": "23ecc731",
   "metadata": {},
   "outputs": [
    {
     "name": "stdout",
     "output_type": "stream",
     "text": [
      "Enter a number here: 9\n",
      "0\n",
      "1\n",
      "1\n",
      "2\n",
      "3\n",
      "5\n",
      "8\n",
      "13\n",
      "21\n"
     ]
    }
   ],
   "source": [
    "# FIBONACCI SERIES\n",
    "\n",
    "a = 0\n",
    "b = 1\n",
    "n = int(input(\"Enter a number here: \"))\n",
    "if n == 1:\n",
    "    print(1)\n",
    "else:\n",
    "    print(a)\n",
    "    print(b)\n",
    "    for i in range(2, n):\n",
    "        c = a+b\n",
    "        a = b\n",
    "        b = c\n",
    "        print(c)"
   ]
  },
  {
   "cell_type": "code",
   "execution_count": 19,
   "id": "566e8e21",
   "metadata": {},
   "outputs": [
    {
     "name": "stdout",
     "output_type": "stream",
     "text": [
      "Enter a number here: 8\n",
      "not a prime number\n"
     ]
    }
   ],
   "source": [
    "# check wheather the number is prime or not\n",
    "\n",
    "num = int(input(\"Enter a number here: \"))\n",
    "\n",
    "if num <= 1:\n",
    "    print(\"Not a prime number\")\n",
    "    \n",
    "else:\n",
    "     for i in range(2, num):\n",
    "        if num%i == 0:\n",
    "            print(\"not a prime number\")\n",
    "            break \n",
    "        else: \n",
    "            print(\"prime number\")"
   ]
  },
  {
   "cell_type": "code",
   "execution_count": 2,
   "id": "0b859a41",
   "metadata": {},
   "outputs": [
    {
     "name": "stdout",
     "output_type": "stream",
     "text": [
      "Enter a number here: 131\n",
      "It is a pallindrome\n"
     ]
    }
   ],
   "source": [
    "# pallindrome of integers\n",
    "\n",
    "num = int(input(\"Enter a number here: \"))\n",
    "temp = num\n",
    "rev = 0\n",
    "while num >0:\n",
    "    dig = num%10\n",
    "    rev = rev*10 + dig\n",
    "    num = num // 10\n",
    "    \n",
    "if rev == temp:\n",
    "    print(\"It is a pallindrome\")\n",
    "else:\n",
    "    print(\"It is not a pallindrome\")"
   ]
  },
  {
   "cell_type": "code",
   "execution_count": 7,
   "id": "910eee91",
   "metadata": {},
   "outputs": [
    {
     "name": "stdout",
     "output_type": "stream",
     "text": [
      "OOTD,YOLO,ASAP,BRB,GTG,OTW\n"
     ]
    }
   ],
   "source": [
    "# separate the following string into comma(,)nseparated values\n",
    "A = \"OOTD.YOLO.ASAP.BRB.GTG.OTW\"\n",
    "\n",
    "print(A.replace(\".\", \",\"))"
   ]
  },
  {
   "cell_type": "code",
   "execution_count": 8,
   "id": "7bafd7f8",
   "metadata": {},
   "outputs": [
    {
     "name": "stdout",
     "output_type": "stream",
     "text": [
      "Enter the string here: hello i am sanjana\n",
      "[' ', ' ', ' ', 'a', 'a', 'a', 'a', 'e', 'h', 'i', 'j', 'l', 'l', 'm', 'n', 'n', 'o', 's']\n"
     ]
    }
   ],
   "source": [
    "# sort the strings alphabetically in python\n",
    "\n",
    "a = input(\"Enter the string here: \")\n",
    "b = sorted(a)\n",
    "print(b)"
   ]
  },
  {
   "cell_type": "code",
   "execution_count": 9,
   "id": "66238d2a",
   "metadata": {},
   "outputs": [
    {
     "name": "stdout",
     "output_type": "stream",
     "text": [
      "hllo\n"
     ]
    }
   ],
   "source": [
    "# remove given character from a string\n",
    "\n",
    "a = \"hello\"\n",
    "b = a.replace(\"e\", \"\")\n",
    "print(b)"
   ]
  },
  {
   "cell_type": "code",
   "execution_count": 11,
   "id": "7fad429f",
   "metadata": {},
   "outputs": [
    {
     "name": "stdout",
     "output_type": "stream",
     "text": [
      "FRIENDS\n"
     ]
    }
   ],
   "source": [
    "# remove dot(.) from the following string\n",
    "\n",
    "Z = \"F.R.I.E.N.D.S\"\n",
    "B = Z.replace(\".\", \"\")\n",
    "print(B)"
   ]
  },
  {
   "cell_type": "code",
   "execution_count": 12,
   "id": "0e5a796d",
   "metadata": {},
   "outputs": [
    {
     "name": "stdout",
     "output_type": "stream",
     "text": [
      "2\n"
     ]
    }
   ],
   "source": [
    "# to check the number of occurance of a substring in a string\n",
    "\n",
    "a = \"she sells seashells on the sea shore\"\n",
    "b = a.count(\"sea\")\n",
    "print(b)\n"
   ]
  },
  {
   "cell_type": "code",
   "execution_count": 13,
   "id": "d83a6f3b",
   "metadata": {},
   "outputs": [
    {
     "name": "stdout",
     "output_type": "stream",
     "text": [
      "Enter a string here: hello my name is sanjana\n",
      "anajnas si eman ym olleh\n"
     ]
    }
   ],
   "source": [
    "# take an input from user as a string then, reverse it.\n",
    "\n",
    "a = input(\"Enter anything here: \")\n",
    "print(a[::-1])"
   ]
  },
  {
   "cell_type": "code",
   "execution_count": 16,
   "id": "7a625c95",
   "metadata": {},
   "outputs": [
    {
     "name": "stdout",
     "output_type": "stream",
     "text": [
      "Enter a here: hello12\n",
      "it does not contain digits\n"
     ]
    }
   ],
   "source": [
    "# to check string conatins only string\n",
    "\n",
    "a = input(\"Enter anything here: \")\n",
    "b = (a.isdigit())\n",
    "if b == True:\n",
    "    print(\"it contains digits\")\n",
    "else:\n",
    "    print(\"it does not contain digits\")"
   ]
  },
  {
   "cell_type": "code",
   "execution_count": 19,
   "id": "ba5d7dc3",
   "metadata": {},
   "outputs": [
    {
     "name": "stdout",
     "output_type": "stream",
     "text": [
      "Enter anything here: hello\n",
      "not palindrome\n"
     ]
    }
   ],
   "source": [
    "a = input(\"Enter anything here: \")\n",
    "rev = a[::-1]\n",
    "if a == rev:\n",
    "    print(\"palindrome\")\n",
    "else:\n",
    "    print(\"not palindrome\")"
   ]
  },
  {
   "cell_type": "code",
   "execution_count": 22,
   "id": "5b32d3ea",
   "metadata": {},
   "outputs": [
    {
     "name": "stdout",
     "output_type": "stream",
     "text": [
      "enter anything here: hello my name is\n",
      "number of vowels in the following string are 5\n"
     ]
    }
   ],
   "source": [
    "# to find number of vowels in a string\n",
    "\n",
    "a = input(\"enter anything here: \")\n",
    "vowels = 0\n",
    "for i in a:\n",
    "    if i == \"a\" or i ==\"e\" or i ==\"i\"or i == \"o\" or i == \"u\":\n",
    "        vowels += 1\n",
    "print(\"number of vowels in the following string are\", vowels)\n",
    "        "
   ]
  },
  {
   "cell_type": "code",
   "execution_count": 1,
   "id": "ebe54074",
   "metadata": {},
   "outputs": [
    {
     "name": "stdout",
     "output_type": "stream",
     "text": [
      "enter anything: Hello my\n",
      "False\n"
     ]
    }
   ],
   "source": [
    "# check every word in a sting starts with a capital letter\n",
    "\n",
    "a = input(\"enter anything: \")\n",
    "print(a.istitle())"
   ]
  },
  {
   "cell_type": "code",
   "execution_count": 2,
   "id": "b2b4b842",
   "metadata": {},
   "outputs": [
    {
     "name": "stdout",
     "output_type": "stream",
     "text": [
      "['apple', 'mango', 'banana', 12, 13, 23.25]\n",
      "<class 'list'>\n"
     ]
    }
   ],
   "source": [
    "fruits = [\"apple\", \"mango\", \"banana\", 12, 13, 23.25]\n",
    "print(fruits)\n",
    "print(type(fruits))"
   ]
  },
  {
   "cell_type": "code",
   "execution_count": 7,
   "id": "877c151a",
   "metadata": {},
   "outputs": [
    {
     "name": "stdout",
     "output_type": "stream",
     "text": [
      "Thor\n",
      "['Thor', 'Captain America']\n",
      "['Ironman', 'Captain America']\n",
      "['Thor', 'Captain America', 'Hulk']\n",
      "['Ironman', 'Captain America']\n",
      "['Thor', 'Captain America']\n",
      "['Hulk', 'Captain America', 'Thor', 'Ironman']\n"
     ]
    }
   ],
   "source": [
    "# slicing string\n",
    "\n",
    "a = [\"Ironman\", \"Thor\", \"Captain America\", \"Hulk\"]\n",
    "print(a[1])\n",
    "print(a[1:3])\n",
    "print(a[::2])\n",
    "print(a[1:])\n",
    "print(a[::2])\n",
    "print(a[-3:-1])\n",
    "print(a[::-1])"
   ]
  },
  {
   "cell_type": "code",
   "execution_count": 16,
   "id": "31d94804",
   "metadata": {},
   "outputs": [
    {
     "name": "stdout",
     "output_type": "stream",
     "text": [
      "['Ironman', 'Thor', 'Captain America', 'Hulk', 'Hulk']\n",
      "5\n",
      "2\n",
      "['Ironman', 'Thor', 'Captain America', 'Hulk', 'Hulk', 'Spiderman']\n",
      "['Ironman', 'Thor', 'Captain America', 'Vision', 'Hulk', 'Hulk', 'Spiderman']\n",
      "['Ironman', 'Thor', 'Captain America', 'Vision', 'Hulk', 'Hulk']\n",
      "Thor\n",
      "['Ironman', 'Captain America', 'Vision', 'Hulk', 'Hulk']\n"
     ]
    }
   ],
   "source": [
    "# list function\n",
    "a = [\"Ironman\", \"Thor\", \"Captain America\", \"Hulk\", \"Hulk\"]\n",
    "\n",
    "# to find the length of a list\n",
    "print(a)\n",
    "print(len(a))\n",
    "\n",
    "# to count an occurence of a particular element\n",
    "print(a.count(\"Hulk\"))\n",
    "\n",
    "# to add to the list\n",
    "a.append(\"Spiderman\")\n",
    "print(a)\n",
    "\n",
    "# to add to a specific location\n",
    "a.insert(3,\"Vision\")\n",
    "print(a)\n",
    "\n",
    "# to remove from a list\n",
    "a.remove(\"Spiderman\")\n",
    "print(a)\n",
    "\n",
    "# to remove from a certain location\n",
    "print(a.pop(1))\n",
    "print(a)"
   ]
  },
  {
   "cell_type": "code",
   "execution_count": 21,
   "id": "ca648757",
   "metadata": {},
   "outputs": [
    {
     "name": "stdout",
     "output_type": "stream",
     "text": [
      "[]\n",
      "['Thor', 'Hulk', 'Ironman', 'Captain America']\n",
      "0\n",
      "['Thor', 'Hulk', 'Ironman', 'Captain America', 'vision', 'spiderman']\n",
      "['spiderman', 'vision', 'Captain America', 'Ironman', 'Hulk', 'Thor']\n",
      "['Captain America', 'Hulk', 'Ironman', 'Thor', 'spiderman', 'vision']\n"
     ]
    }
   ],
   "source": [
    "a = [\"Thor\", \"Hulk\", \"Ironman\", \"Captain America\"]\n",
    "\n",
    "# to create a copy of a list\n",
    "b = []\n",
    "print(b)\n",
    "b = a.copy()\n",
    "print(b)\n",
    "\n",
    "# to access an element\n",
    "print(a.index(\"Thor\"))\n",
    "\n",
    "# to extend the list\n",
    "c = [\"vision\", \"spiderman\"]\n",
    "a.extend(c)\n",
    "print(a)\n",
    "\n",
    "# to reverse the list\n",
    "a.reverse()\n",
    "print(a)\n",
    "\n",
    "# to sort the list\n",
    "a.sort()\n",
    "print(a)\n",
    "\n",
    "# to clear all the data from the list\n"
   ]
  },
  {
   "cell_type": "code",
   "execution_count": 7,
   "id": "0bf5a0fb",
   "metadata": {},
   "outputs": [
    {
     "name": "stdout",
     "output_type": "stream",
     "text": [
      "[30, 40, 50, 60] \n",
      " [50, 60]\n",
      "[50, 60]\n"
     ]
    }
   ],
   "source": [
    "# LIST COMPREHENSION\n",
    "\n",
    "l1 = [30, 40, 50, 60]\n",
    "\n",
    "l2 = []\n",
    "for i in l1:\n",
    "    if i > 45:\n",
    "        l2.append(i)\n",
    "print(l1,\"\\n\", l2)\n",
    "\n",
    "l3 = [i for i in l1 if i > 45]\n",
    "print(l3)"
   ]
  },
  {
   "cell_type": "code",
   "execution_count": 15,
   "id": "19476092",
   "metadata": {},
   "outputs": [
    {
     "name": "stdout",
     "output_type": "stream",
     "text": [
      "['Joe', 'Rachel', 'Monica', 'Ross']\n",
      "['Joe', 'Phoebe', 'Rachel', 'Monica', 'Ross']\n",
      "['Joe', 'Phoebe', 'Monica', 'Ross']\n",
      "10920\n",
      "[7, 10, 12, 13]\n",
      "The largest value in the given list is 13\n"
     ]
    }
   ],
   "source": [
    "A = [\"Ross\", \"Rachel\", \"Monica\", \"Joe\"]\n",
    "\n",
    "# to swap first and fourth element\n",
    "\n",
    "A[0], A[3] = A[3],A[0]\n",
    "print(A)\n",
    "\n",
    "# to add new value at second position\n",
    "A.insert(1, \"Phoebe\")\n",
    "print(A)\n",
    "\n",
    "# to delete value from 3rd position\n",
    "A.pop(2)\n",
    "print(A)\n",
    "\n",
    "B = [13, 7, 12, 10]\n",
    "\n",
    "# to multiply all the numbers in a list\n",
    "mul = 1\n",
    "for i in B:\n",
    "    mul = mul*i\n",
    "print(mul)\n",
    "\n",
    "# get the largest number from the list\n",
    "B.sort()\n",
    "print(B)\n",
    "\n",
    "print(\"The largest value in the given list is\", B[-1])\n"
   ]
  },
  {
   "cell_type": "code",
   "execution_count": 19,
   "id": "79e72a3b",
   "metadata": {},
   "outputs": [
    {
     "name": "stdout",
     "output_type": "stream",
     "text": [
      "<class 'tuple'>\n",
      "('mango', 'apple', 'banana', 1, 67, 1.23)\n",
      "<class 'tuple'>\n"
     ]
    }
   ],
   "source": [
    "# TUPLES\n",
    "\n",
    "a = \"mango\", \"apple\", \"banana\", 1,67,1.23\n",
    "print(type(a))\n",
    "print(a)\n",
    "\n",
    "b = \"Ironman\",\n",
    "print(type(b))"
   ]
  },
  {
   "cell_type": "code",
   "execution_count": 23,
   "id": "3fcbfbbd",
   "metadata": {},
   "outputs": [
    {
     "name": "stdout",
     "output_type": "stream",
     "text": [
      "('Vivo', 'Redmi')\n",
      "('OnePlus', 'Vivo', 'Redmi')\n",
      "('Redmi', 'Sumsung', 'Nokia')\n",
      "('Vivo', 'Sumsung')\n",
      "('Nokia', 'Sumsung', 'Redmi', 'Vivo', 'OnePlus')\n",
      "('Redmi', 'Vivo', 'OnePlus')\n",
      "OnePlus\n",
      "Vivo\n",
      "Redmi\n",
      "Sumsung\n",
      "Nokia\n",
      "OnePlus\n",
      "Vivo\n",
      "Redmi\n",
      "Sumsung\n",
      "Nokia\n",
      "OnePlus\n",
      "Vivo\n",
      "Redmi\n",
      "Sumsung\n",
      "Nokia\n"
     ]
    }
   ],
   "source": [
    "# SLICING AND ITERATION IN TUPLES\n",
    "\n",
    "a = (\"OnePlus\", \"Vivo\", \"Redmi\", \"Sumsung\", \"Nokia\")\n",
    "print(a[1:3])\n",
    "print(a[:3])\n",
    "print(a[2:])\n",
    "print(a[1::2])\n",
    "print(a[::-1])\n",
    "print(a[2::-1])\n",
    "\n",
    "# with for loop\n",
    "for i in a:\n",
    "    print(i)\n",
    "    \n",
    "# along with range and length in for loop\n",
    "for i in range(len(a)):\n",
    "    print(a[i])\n",
    "    \n",
    "# along with while loop\n",
    "i = 0\n",
    "while i < len(a):\n",
    "    print(a[i])\n",
    "    i +=1"
   ]
  },
  {
   "cell_type": "code",
   "execution_count": 29,
   "id": "292ca8c4",
   "metadata": {},
   "outputs": [
    {
     "name": "stdout",
     "output_type": "stream",
     "text": [
      "before conversion <class 'tuple'>\n",
      "after cobersion <class 'list'>\n",
      "['OnePlus', 'Nokia', 'Redmi', 'Vivo']\n",
      "<class 'tuple'>\n",
      "('OnePlus', 'Nokia', 'Redmi', 'Vivo')\n",
      "1\n",
      "the index of redmi is 2\n"
     ]
    }
   ],
   "source": [
    "a = (\"OnePlus\", \"Nokia\", \"Redmi\")\n",
    "print(\"before conversion\", type(a))\n",
    "\n",
    "a = list(a)\n",
    "print(\"after cobersion\", type(a))\n",
    "\n",
    "a.append(\"Vivo\")\n",
    "print(a)\n",
    "a = tuple(a)\n",
    "print(type(a))\n",
    "print(a)\n",
    "\n",
    "print(a.count(\"Redmi\"))\n",
    "print(\"the index of redmi is\", a.index(\"Redmi\"))"
   ]
  },
  {
   "cell_type": "code",
   "execution_count": 36,
   "id": "740875f2",
   "metadata": {},
   "outputs": [
    {
     "name": "stdout",
     "output_type": "stream",
     "text": [
      "<class 'dict'>\n",
      "{\"name\": \"sanju\", \"age\": 12, \"marks\": 80}\n",
      "<class 'str'>\n"
     ]
    }
   ],
   "source": [
    "# convert the follwing dictionary into JSON format\n",
    "import json\n",
    "student_data = {\"name\": \"sanju\", \"age\": 12, \"marks\":\n",
    "               80}\n",
    "print(type(student_data))\n",
    "data = json.dumps(student_data)\n",
    "print(data)\n",
    "print(type(data))"
   ]
  },
  {
   "cell_type": "code",
   "execution_count": 37,
   "id": "9e2813aa",
   "metadata": {},
   "outputs": [
    {
     "name": "stdout",
     "output_type": "stream",
     "text": [
      "12\n"
     ]
    }
   ],
   "source": [
    "# access the value of age from the given JSON data\n",
    "student_data = \"\"\"{\"name\": \"sanju\", \"age\": 12, \"marks\":\n",
    "               80}\"\"\"\n",
    "data = json.loads(student_data)\n",
    "print(data[\"age\"])"
   ]
  },
  {
   "cell_type": "code",
   "execution_count": 48,
   "id": "7f31258a",
   "metadata": {},
   "outputs": [
    {
     "name": "stdout",
     "output_type": "stream",
     "text": [
      "{\n",
      "    \"name\"=\"sanju\",\n",
      "    \"age\"=12,\n",
      "    \"marks\"=90\n",
      "}\n"
     ]
    }
   ],
   "source": [
    "# preety print following JSON data\n",
    "import json\n",
    "student_data = {\"name\": \"sanju\", \"age\": 12, \"marks\": 90}\n",
    "\n",
    "data = json.dumps(student_data, indent=4,separators=(\",\",\"=\"))\n",
    "print(data)"
   ]
  },
  {
   "cell_type": "code",
   "execution_count": 53,
   "id": "6c852b64",
   "metadata": {},
   "outputs": [
    {
     "name": "stdout",
     "output_type": "stream",
     "text": [
      "the data has been added to the file\n"
     ]
    }
   ],
   "source": [
    "# sort the following JSON keys and write them into a file\n",
    "import json\n",
    "student_data = {\"name\": \"sanju\", \"age\": 12, \"marks\": 90}\n",
    "f = open(\"demo.json\", \"w\")\n",
    "data = json.dumps(student_data, indent=4, sort_keys= True)\n",
    "f.write(data)\n",
    "\n",
    "print(\"the data has been added to the file\")"
   ]
  },
  {
   "cell_type": "code",
   "execution_count": 51,
   "id": "e0500a77",
   "metadata": {},
   "outputs": [
    {
     "name": "stdout",
     "output_type": "stream",
     "text": [
      "{'maths': 90}\n"
     ]
    }
   ],
   "source": [
    "# access the nested key marks from the following nested data\n",
    "import json\n",
    "\n",
    "student_data = \"\"\"{ \"student\":{ \n",
    "        \"grade\": {\n",
    "          \"name\": \"david\", \n",
    "             \"marks\":{\n",
    "                \"maths\": 90\n",
    "            }\n",
    "        }\n",
    "}}\"\"\"\n",
    "\n",
    "data = json.loads(student_data)\n",
    "print(data[\"student\"][\"grade\"][\"marks\"])\n"
   ]
  },
  {
   "cell_type": "code",
   "execution_count": 52,
   "id": "61a01a9e",
   "metadata": {},
   "outputs": [
    {
     "name": "stdout",
     "output_type": "stream",
     "text": [
      "90\n"
     ]
    }
   ],
   "source": [
    "# access the nested key \"marks\" from the following nested data\n",
    "import json\n",
    "student_data =\"\"\"{ \"student\":\n",
    "                  {\"grade\":\n",
    "                    {\"name\": \"david\", \"marks\": 90}\n",
    "                    } \n",
    "                 }\"\"\"\n",
    "data = json.loads(student_data)\n",
    "print(data[\"student\"][\"grade\"][\"marks\"])\n"
   ]
  },
  {
   "cell_type": "code",
   "execution_count": 54,
   "id": "e3389345",
   "metadata": {},
   "outputs": [
    {
     "name": "stdout",
     "output_type": "stream",
     "text": [
      "21\n"
     ]
    }
   ],
   "source": [
    "# DICTIONARY\n",
    "Employee_Data = {\"name\": \"sanju\", \"age\": 21, \"address\": \"Ramgarh\"}\n",
    "print(Employee_Data[\"age\"])"
   ]
  },
  {
   "cell_type": "code",
   "execution_count": 59,
   "id": "8f53b0da",
   "metadata": {},
   "outputs": [
    {
     "name": "stdout",
     "output_type": "stream",
     "text": [
      "21\n",
      "sanju\n",
      "12th\n",
      "21\n",
      "sanju\n",
      "12th\n",
      "21\n",
      "name - sanju\n",
      "class - 12th\n",
      "roll - 21\n"
     ]
    }
   ],
   "source": [
    "# ITERATION IN DICTIONARIES\n",
    "\n",
    "student ={\"name\": \"sanju\", \"class\": \"12th\", \"roll\": 21}\n",
    "print(student[\"roll\"])\n",
    "\n",
    "# printing all the key name one by one\n",
    "for i in student:\n",
    "    print(student[i])\n",
    "\n",
    "# using value function\n",
    "for i in student.values():\n",
    "    print(i)\n",
    "    \n",
    "# using items function\n",
    "for x, y in student.items():\n",
    "    print(x, \"-\", y)"
   ]
  },
  {
   "cell_type": "code",
   "execution_count": 65,
   "id": "41b5cc64",
   "metadata": {},
   "outputs": [
    {
     "name": "stdout",
     "output_type": "stream",
     "text": [
      "21\n",
      "dict_items([('name', 'sanju'), ('age', 21), ('address', 'Ramgarh')])\n",
      "dict_keys(['name', 'age', 'address'])\n",
      "dict_values(['sanju', 21, 'Ramgarh'])\n",
      "{'name': 'sanju', 'age': 21, 'address': 'Ramgarh'}\n"
     ]
    }
   ],
   "source": [
    "# iteration in dictionaries\n",
    "student = {\"name\": \"sanju\", \"age\": 21, \"address\": \"Ramgarh\"}\n",
    "\n",
    "# get\n",
    "x = student.get(\"age\")\n",
    "print(x)\n",
    "\n",
    "# items\n",
    "a = student.items()\n",
    "print(a)\n",
    "\n",
    "# keys\n",
    "b = student.keys()\n",
    "print(b)\n",
    "\n",
    "# values\n",
    "c = student.values()\n",
    "print(c)\n",
    "\n",
    "# copy\n",
    "d = student.copy()\n",
    "print(d)\n",
    "\n",
    "# setdefault\n",
    "\n",
    "# update\n",
    "\n",
    "# popitem\n",
    "\n",
    "# clear\n"
   ]
  },
  {
   "cell_type": "code",
   "execution_count": 69,
   "id": "744565eb",
   "metadata": {},
   "outputs": [
    {
     "name": "stdout",
     "output_type": "stream",
     "text": [
      "23\n"
     ]
    }
   ],
   "source": [
    "# Nested Dictionaries\n",
    "Employees = {1:{\"name\": \"john\", \"age\": 23, \"gender\": \"male\"},\n",
    "            2:{\"name\": \"lisa\", \"age\": 24, \"gender\": \"female\"},\n",
    "            3:{\"name\": \"peter\", \"age\": 21, \"gender\": \"male\"}}\n",
    "print(Employees[1][\"age\"])"
   ]
  },
  {
   "cell_type": "code",
   "execution_count": 73,
   "id": "ee8bfe87",
   "metadata": {},
   "outputs": [
    {
     "name": "stdout",
     "output_type": "stream",
     "text": [
      "[6, 12, 23, 45, 91]\n"
     ]
    }
   ],
   "source": [
    "# wap to sort a dictionary by value\n",
    "\n",
    "a = {\"a\":12,\"b\":23,\"c\":6,\"d\":91,\"e\":45}\n",
    "a = sorted(a.values())\n",
    "print(a)"
   ]
  },
  {
   "cell_type": "code",
   "execution_count": 75,
   "id": "8e70fe99",
   "metadata": {},
   "outputs": [
    {
     "name": "stdout",
     "output_type": "stream",
     "text": [
      "{1: 1, 2: 4, 3: 9, 4: 16, 5: 25, 6: 36, 7: 49, 8: 64, 9: 81, 10: 100, 11: 121, 12: 144, 13: 169, 14: 196, 15: 225}\n"
     ]
    }
   ],
   "source": [
    "# write a python script to print a dictionary where the keys are numbers between 1 and 15 and the values are square of keys\n",
    "\n",
    "a = {}\n",
    "for i in range(1,16):\n",
    "    a[i] = i**2\n",
    "print(a)"
   ]
  },
  {
   "cell_type": "code",
   "execution_count": 76,
   "id": "90cc60f6",
   "metadata": {},
   "outputs": [
    {
     "name": "stdout",
     "output_type": "stream",
     "text": [
      "120\n"
     ]
    }
   ],
   "source": [
    "# wap to multiply all the items in dictionary\n",
    "\n",
    "a = {\"a\":1,\"b\":2,\"c\":3,\"d\":4,\"e\":5}\n",
    "product = 1\n",
    "for i in a:\n",
    "    product *=a[i]\n",
    "print(product)"
   ]
  },
  {
   "cell_type": "code",
   "execution_count": 77,
   "id": "93b4e841",
   "metadata": {},
   "outputs": [
    {
     "name": "stdout",
     "output_type": "stream",
     "text": [
      "[12, 23, 48, 56, 91]\n"
     ]
    }
   ],
   "source": [
    "# wap to sort a dictionary by key\n",
    "\n",
    "a = {12:\"a\",56:\"b\",23:\"c\",48:\"d\",91:\"e\"}\n",
    "\n",
    "a = sorted(a.keys())\n",
    "print(a)\n"
   ]
  },
  {
   "cell_type": "code",
   "execution_count": 8,
   "id": "938020c1",
   "metadata": {},
   "outputs": [
    {
     "name": "stdout",
     "output_type": "stream",
     "text": [
      "{'Ironman', 'Hulk', 'Thor', 'Captain America'}\n",
      "<class 'set'>\n",
      "Ironman\n",
      "Hulk\n",
      "Thor\n",
      "Captain America\n"
     ]
    }
   ],
   "source": [
    "# sets\n",
    "a = {\"Ironman\", \"Hulk\", \"Thor\", \"Captain America\"}\n",
    "print(a)\n",
    "print(type(a))\n",
    "for x in a:\n",
    "    print(x)"
   ]
  },
  {
   "cell_type": "code",
   "execution_count": 18,
   "id": "d52d80cc",
   "metadata": {},
   "outputs": [
    {
     "name": "stdout",
     "output_type": "stream",
     "text": [
      "{'Spiderman', 'Ironman', 'Captain America'}\n"
     ]
    }
   ],
   "source": [
    "# set function\n",
    "\n",
    "# add\n",
    "# pop\n",
    "# remove\n",
    "# discard\n",
    "# copy\n",
    "\n",
    "a = {\"Ironman\", \"Hulk\", \"Thor\", \"Captain America\"}\n",
    "b = {\"Superma\", \"Batman\", \"Wonder-women\"}\n",
    "c = {\"Hulk\", \"Thor\", \"Spiderman\"}\n",
    "\n",
    "# print(a.union(c))\n",
    "# print(a.difference(c))\n",
    "# print(a.difference_update(c))\n",
    "# x = (a.intersection(c))\n",
    "# print(x)\n",
    "\n",
    "# x = (a.symmetric_difference(c))\n",
    "# print(x)\n",
    "\n",
    "a.symmetric_difference_update(c)\n",
    "print(a)"
   ]
  },
  {
   "cell_type": "code",
   "execution_count": 23,
   "id": "b08d12a9",
   "metadata": {},
   "outputs": [
    {
     "name": "stdout",
     "output_type": "stream",
     "text": [
      "min value is 1\n",
      "max value is 90\n"
     ]
    }
   ],
   "source": [
    "# to find max and min in a set\n",
    "a = {12,56,34,8,90,1,57}\n",
    "maximum = max(a)\n",
    "minimum = min(a)\n",
    "print(\"min value is\", minimum)\n",
    "print(\"max value is\", maximum)"
   ]
  },
  {
   "cell_type": "code",
   "execution_count": 24,
   "id": "06d519fd",
   "metadata": {},
   "outputs": [
    {
     "name": "stdout",
     "output_type": "stream",
     "text": [
      "{5, 6}\n"
     ]
    }
   ],
   "source": [
    "# to find common elements in three lists using sets\n",
    "a = [1,5,6,8,2]\n",
    "b = [4,5,6,7]\n",
    "c = [1,9,6,2,5]\n",
    "\n",
    "print(set(a) & set(b) & set(c))"
   ]
  },
  {
   "cell_type": "code",
   "execution_count": 26,
   "id": "ee0fd123",
   "metadata": {},
   "outputs": [
    {
     "name": "stdout",
     "output_type": "stream",
     "text": [
      "{9}\n"
     ]
    }
   ],
   "source": [
    "# to find difference between two sets\n",
    "a = {1,5,6,8,2}\n",
    "b = {1,9,6,2,5}\n",
    "print(b.difference(a))"
   ]
  },
  {
   "cell_type": "code",
   "execution_count": 27,
   "id": "18de17f6",
   "metadata": {},
   "outputs": [
    {
     "name": "stdout",
     "output_type": "stream",
     "text": [
      "{1, 2, 5, 6}\n"
     ]
    }
   ],
   "source": [
    "# to remove an item from a set if it is present in the set\n",
    "a = {1,5,6,8,2}\n",
    "a.discard(8)\n",
    "print(a)"
   ]
  },
  {
   "cell_type": "code",
   "execution_count": 28,
   "id": "b7e7c924",
   "metadata": {},
   "outputs": [
    {
     "name": "stdout",
     "output_type": "stream",
     "text": [
      "True\n"
     ]
    }
   ],
   "source": [
    "# to check if a set is a subset of another set\n",
    "a = {1,2,3,4,5,6}\n",
    "b = {2,3,4}\n",
    "print(b.issubset(a))"
   ]
  },
  {
   "cell_type": "code",
   "execution_count": 29,
   "id": "3f4e4c55",
   "metadata": {},
   "outputs": [
    {
     "name": "stdout",
     "output_type": "stream",
     "text": [
      "5\n"
     ]
    }
   ],
   "source": [
    "# FUNCTION\n",
    "def add(x,y):\n",
    "    print(x+y)\n",
    "\n",
    "add(2,3)"
   ]
  },
  {
   "cell_type": "code",
   "execution_count": 30,
   "id": "fd579472",
   "metadata": {},
   "outputs": [
    {
     "name": "stdout",
     "output_type": "stream",
     "text": [
      "Hello my name is sanju\n"
     ]
    }
   ],
   "source": [
    "# arbitary arguments\n",
    "def hello(*name):\n",
    "    print(\"Hello my name is\", name[0])\n",
    "    \n",
    "hello(\"sanju\", \"prince\", \"ankit\")"
   ]
  },
  {
   "cell_type": "code",
   "execution_count": 33,
   "id": "f6f722d8",
   "metadata": {},
   "outputs": [
    {
     "name": "stdout",
     "output_type": "stream",
     "text": [
      "Hello World\n",
      "('The addition of two number is', 5)\n"
     ]
    }
   ],
   "source": [
    "def hello():\n",
    "    return(\"Hello World\")\n",
    "\n",
    "print(hello())\n",
    "\n",
    "def add(a,b):\n",
    "    return(\"The addition of two number is\", a+b)\n",
    "\n",
    "print(add(2,3))"
   ]
  },
  {
   "cell_type": "code",
   "execution_count": 1,
   "id": "f454c389",
   "metadata": {},
   "outputs": [
    {
     "name": "stdout",
     "output_type": "stream",
     "text": [
      "24\n"
     ]
    }
   ],
   "source": [
    "# factorial \n",
    "def fact(n):\n",
    "    if n == 1:\n",
    "        return 1\n",
    "    else:\n",
    "        return(n*fact(n-1))\n",
    "\n",
    "print(fact(4))\n",
    "    "
   ]
  },
  {
   "cell_type": "code",
   "execution_count": 2,
   "id": "19f3331e",
   "metadata": {},
   "outputs": [
    {
     "name": "stdout",
     "output_type": "stream",
     "text": [
      "20\n"
     ]
    }
   ],
   "source": [
    "# lambda function\n",
    "\n",
    "a = lambda b:b*5\n",
    "print(a(4))"
   ]
  },
  {
   "cell_type": "code",
   "execution_count": 3,
   "id": "ce540386",
   "metadata": {},
   "outputs": [
    {
     "name": "stdout",
     "output_type": "stream",
     "text": [
      "first variable x  24\n",
      "25\n"
     ]
    }
   ],
   "source": [
    "#  local variable\n",
    "x = 24\n",
    "print(\"first variable x \", x)\n",
    "def hello():\n",
    "    x = 25\n",
    "    return x\n",
    "print(hello())"
   ]
  },
  {
   "cell_type": "code",
   "execution_count": 5,
   "id": "006764d5",
   "metadata": {},
   "outputs": [
    {
     "name": "stdout",
     "output_type": "stream",
     "text": [
      "first variable x  24\n",
      "25\n",
      "25\n"
     ]
    }
   ],
   "source": [
    "#  global variable\n",
    "x = 24\n",
    "print(\"first variable x \", x)\n",
    "def hello():\n",
    "    global x\n",
    "    x = 25\n",
    "    return x\n",
    "print(hello())\n",
    "\n",
    "print(x)"
   ]
  },
  {
   "cell_type": "code",
   "execution_count": 6,
   "id": "e8bc86f5",
   "metadata": {},
   "outputs": [
    {
     "name": "stdout",
     "output_type": "stream",
     "text": [
      "91 is the greatest number\n"
     ]
    }
   ],
   "source": [
    "# write a function to find maximum of three numbers in python\n",
    "\n",
    "def maximum_num (val1, val2, val3):\n",
    "    if val1 > val2 and val1 > val3:\n",
    "        print(val1, \"is the greatest number\")\n",
    "    elif val2 > val1 and val2 >val3:\n",
    "         print(val2, \"is the greatest number\")\n",
    "    else:\n",
    "         print(val3, \"is the greatest number\")\n",
    "            \n",
    "\n",
    "            \n",
    "maximum_num(12, 5, 91)\n",
    "        "
   ]
  },
  {
   "cell_type": "code",
   "execution_count": 7,
   "id": "ee37a150",
   "metadata": {},
   "outputs": [
    {
     "name": "stdout",
     "output_type": "stream",
     "text": [
      "[1, 4, 9, 16, 25, 36, 49, 64, 81, 100, 121, 144, 169, 196, 225, 256, 289, 324, 361, 400, 441, 484, 529, 576, 625, 676, 729, 784, 841, 900]\n"
     ]
    }
   ],
   "source": [
    "# function to craete an dprint a list where the values are square of numbers between 1 and 30\n",
    "\n",
    "def create_list():\n",
    "    l = []\n",
    "    for i in range(1, 31):\n",
    "        l.append(i**2)\n",
    "    return l\n",
    "\n",
    "print(create_list())"
   ]
  },
  {
   "cell_type": "code",
   "execution_count": 12,
   "id": "9ee71bef",
   "metadata": {},
   "outputs": [
    {
     "name": "stdout",
     "output_type": "stream",
     "text": [
      "it is not a prime number\n"
     ]
    }
   ],
   "source": [
    "# function that takes a number as a parameter and check if the number is prime or not\n",
    "\n",
    "def check_prime(num):\n",
    "    if num == 1:\n",
    "        print(\"it is not prime number\")\n",
    "    if num == 2:\n",
    "         print(\"it is a prime number\")\n",
    "    if num>2:\n",
    "        for i in range(2, num):\n",
    "            if num % i == 0:\n",
    "                print(\"it is not a prime number\")\n",
    "            break\n",
    "        \n",
    "            \n",
    "    else:\n",
    "        print(\"it is prime number\")\n",
    "        \n",
    "check_prime(10)"
   ]
  },
  {
   "cell_type": "code",
   "execution_count": 1,
   "id": "2bdf01f1",
   "metadata": {},
   "outputs": [
    {
     "name": "stdout",
     "output_type": "stream",
     "text": [
      "sum of all the numbers in a list is 42\n",
      "42\n"
     ]
    }
   ],
   "source": [
    "# write a function to sum all the numbers in a list\n",
    "def add(numbers):\n",
    "    total = 0\n",
    "    for i in numbers:\n",
    "        total = total + i\n",
    "    return(total)\n",
    "\n",
    "print(\"sum of all the numbers in a list is\",add([12,4,5,6,7,8]))\n",
    "\n",
    "# solution using Recursion\n",
    "def add(numbers):\n",
    "    if len(numbers)==1:\n",
    "        return(numbers[0])\n",
    "    else:\n",
    "        return (numbers[0]) + add(numbers[1:])\n",
    "    \n",
    "\n",
    "print(add([12,4,5,6,7,8]))\n"
   ]
  },
  {
   "cell_type": "code",
   "execution_count": 3,
   "id": "c228c05f",
   "metadata": {},
   "outputs": [
    {
     "name": "stdout",
     "output_type": "stream",
     "text": [
      "13\n"
     ]
    }
   ],
   "source": [
    "# funtion to solve fibonacci sequence using recursion\n",
    "\n",
    "def fs(num):\n",
    "    if num == 1:\n",
    "        return (0)\n",
    "    elif num == 2:\n",
    "        return (1)\n",
    "    else:\n",
    "        return(fs(num-1) + fs(num-2))\n",
    "    \n",
    "print(fs(8))"
   ]
  },
  {
   "cell_type": "code",
   "execution_count": 4,
   "id": "72d0d7d4",
   "metadata": {},
   "outputs": [
    {
     "name": "stdout",
     "output_type": "stream",
     "text": [
      "2024-06-18 23:23:21.499375\n"
     ]
    }
   ],
   "source": [
    "import datetime\n",
    "\n",
    "x = datetime.datetime.now()\n",
    "print(x)"
   ]
  },
  {
   "cell_type": "code",
   "execution_count": 9,
   "id": "1f910dfb",
   "metadata": {},
   "outputs": [
    {
     "name": "stdout",
     "output_type": "stream",
     "text": [
      "7\n",
      "Tails\n"
     ]
    }
   ],
   "source": [
    "# Random\n",
    "import random\n",
    "x = random.randint(1,10)\n",
    "print(x)\n",
    "\n",
    "l = [\"Heads\", \"Tails\"]\n",
    "x = random.choice(l)\n",
    "print(x)"
   ]
  },
  {
   "cell_type": "code",
   "execution_count": 10,
   "id": "ce65583a",
   "metadata": {},
   "outputs": [
    {
     "name": "stdout",
     "output_type": "stream",
     "text": [
      "16\n"
     ]
    }
   ],
   "source": [
    "# math \n",
    "import math\n",
    "a = pow(2,4)\n",
    "print(a)\n",
    "\n",
    "# max min sqrt abs ceil floor\n"
   ]
  },
  {
   "cell_type": "code",
   "execution_count": null,
   "id": "b5fa0b3c",
   "metadata": {},
   "outputs": [],
   "source": []
  },
  {
   "cell_type": "code",
   "execution_count": null,
   "id": "83e452c4",
   "metadata": {},
   "outputs": [],
   "source": []
  }
 ],
 "metadata": {
  "kernelspec": {
   "display_name": "Python 3 (ipykernel)",
   "language": "python",
   "name": "python3"
  },
  "language_info": {
   "codemirror_mode": {
    "name": "ipython",
    "version": 3
   },
   "file_extension": ".py",
   "mimetype": "text/x-python",
   "name": "python",
   "nbconvert_exporter": "python",
   "pygments_lexer": "ipython3",
   "version": "3.10.9"
  }
 },
 "nbformat": 4,
 "nbformat_minor": 5
}
